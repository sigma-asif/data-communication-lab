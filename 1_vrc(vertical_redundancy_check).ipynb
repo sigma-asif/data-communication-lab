{
  "nbformat": 4,
  "nbformat_minor": 0,
  "metadata": {
    "colab": {
      "provenance": [],
      "authorship_tag": "ABX9TyN0U10B2Q9O/HbkyIhLL7a9",
      "include_colab_link": true
    },
    "kernelspec": {
      "name": "python3",
      "display_name": "Python 3"
    },
    "language_info": {
      "name": "python"
    }
  },
  "cells": [
    {
      "cell_type": "markdown",
      "metadata": {
        "id": "view-in-github",
        "colab_type": "text"
      },
      "source": [
        "<a href=\"https://colab.research.google.com/github/sigma-asif/data-communication-lab/blob/main/1_vrc(vertical_redundancy_check).ipynb\" target=\"_parent\"><img src=\"https://colab.research.google.com/assets/colab-badge.svg\" alt=\"Open In Colab\"/></a>"
      ]
    },
    {
      "cell_type": "code",
      "execution_count": null,
      "metadata": {
        "colab": {
          "base_uri": "https://localhost:8080/"
        },
        "id": "Que9oc3qCqBM",
        "outputId": "40c469d5-c5d7-4083-c394-3bacec3e74f3"
      },
      "outputs": [
        {
          "output_type": "stream",
          "name": "stdout",
          "text": [
            "Enter senders data: 1010\n",
            "Enter receivers data: 1100\n",
            "Senders parity:  0\n",
            "Receivers parity:  0\n",
            "No errors\n"
          ]
        }
      ],
      "source": [
        "def even_parity(binary_data):\n",
        "    cnt = binary_data.count('1')\n",
        "    if cnt % 2 == 0:\n",
        "        return '0'\n",
        "    else:\n",
        "        return '1'\n",
        "\n",
        "\n",
        "def main():\n",
        "    senders_data = input(\"Enter senders data: \")\n",
        "    receivers_data = input(\"Enter receivers data: \")\n",
        "\n",
        "    s_parity = even_parity(senders_data)\n",
        "    r_parity = even_parity(receivers_data)\n",
        "    print(\"Senders parity: \", s_parity)\n",
        "    print(\"Receivers parity: \", r_parity)\n",
        "    if(s_parity == r_parity):\n",
        "        print(\"No errors\")\n",
        "    else:\n",
        "        print('error found')\n",
        "\n",
        "\n",
        "\n",
        "\n",
        "main()"
      ]
    }
  ]
}