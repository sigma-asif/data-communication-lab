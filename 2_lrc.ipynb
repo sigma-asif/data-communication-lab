{
  "nbformat": 4,
  "nbformat_minor": 0,
  "metadata": {
    "colab": {
      "provenance": [],
      "authorship_tag": "ABX9TyMAOS7J2MinC1qSLLyTxci0",
      "include_colab_link": true
    },
    "kernelspec": {
      "name": "python3",
      "display_name": "Python 3"
    },
    "language_info": {
      "name": "python"
    }
  },
  "cells": [
    {
      "cell_type": "markdown",
      "metadata": {
        "id": "view-in-github",
        "colab_type": "text"
      },
      "source": [
        "<a href=\"https://colab.research.google.com/github/sigma-asif/data-communication-lab/blob/main/2_lrc.ipynb\" target=\"_parent\"><img src=\"https://colab.research.google.com/assets/colab-badge.svg\" alt=\"Open In Colab\"/></a>"
      ]
    },
    {
      "cell_type": "code",
      "execution_count": null,
      "metadata": {
        "colab": {
          "base_uri": "https://localhost:8080/"
        },
        "id": "w7kCFN24FqT3",
        "outputId": "e98ba7fd-5599-48c5-ef67-3eb60cbc749b"
      },
      "outputs": [
        {
          "output_type": "stream",
          "name": "stdout",
          "text": [
            "enter binary string spearated by space:1000 1100 111\n",
            "receivers data:1000 1100 111\n",
            "Padded strings: ['1000', '1100', '0111']\n",
            "LRC bits: 0011\n",
            "Padded strings: ['1000', '1100', '0111']\n",
            "LRC bits: 0011\n",
            "No Error\n"
          ]
        }
      ],
      "source": [
        "\n",
        "def lrc_parity(vector_of_strings):\n",
        "    #row = len(vector_of_strings)\n",
        "    #col = len(vector_of_strings[0])\n",
        "    # Find the maximum length of the binary strings\n",
        "    max_len = max(len(binary_str) for binary_str in vector_of_strings)\n",
        "\n",
        "    # Pad all strings with '0' on the left to make them of equal length\n",
        "    padded_strings = [binary_str.zfill(max_len) for binary_str in vector_of_strings]\n",
        "\n",
        "    print(f'Padded strings: {padded_strings}')  # Debug print to see the padded strings\n",
        "\n",
        "    # Use padded_strings to calculate row and col\n",
        "    row = len(padded_strings)\n",
        "    col = len(padded_strings[0])\n",
        "\n",
        "    lrc = ''\n",
        "    for j in range(col):  # Loop through columns\n",
        "        cnt = 0\n",
        "        for i in range(row):  # Loop through rows\n",
        "            if padded_strings[i][j] == '1':  # Check each bit in the column\n",
        "                cnt += 1\n",
        "\n",
        "        # Determine parity and append to LRC\n",
        "        if cnt % 2 == 0:\n",
        "            lrc += '0'\n",
        "        else:\n",
        "            lrc += '1'\n",
        "\n",
        "    print(f'LRC bits: {lrc}')\n",
        "    return lrc\n",
        "\n",
        "def main():\n",
        "    input_string = input(\"enter binary string spearated by space:\")\n",
        "    vector_of_strings = input_string.split();\n",
        "\n",
        "    input_string2 = input(\"receivers data:\")\n",
        "    vector_of_strings2 = input_string2.split();\n",
        "\n",
        "    lrc1 = lrc_parity(vector_of_strings)\n",
        "    lrc2 = lrc_parity(vector_of_strings2)\n",
        "\n",
        "    if lrc1 == lrc2:\n",
        "        print('No Error')\n",
        "\n",
        "    else:\n",
        "        print(\"Error\")\n",
        "\n",
        "main()"
      ]
    }
  ]
}