{
  "nbformat": 4,
  "nbformat_minor": 0,
  "metadata": {
    "colab": {
      "provenance": [],
      "authorship_tag": "ABX9TyNqYT7L2wvK4KNaSlu+lzjl",
      "include_colab_link": true
    },
    "kernelspec": {
      "name": "python3",
      "display_name": "Python 3"
    },
    "language_info": {
      "name": "python"
    }
  },
  "cells": [
    {
      "cell_type": "markdown",
      "metadata": {
        "id": "view-in-github",
        "colab_type": "text"
      },
      "source": [
        "<a href=\"https://colab.research.google.com/github/sigma-asif/data-communication-lab/blob/main/3_checksum.ipynb\" target=\"_parent\"><img src=\"https://colab.research.google.com/assets/colab-badge.svg\" alt=\"Open In Colab\"/></a>"
      ]
    },
    {
      "cell_type": "code",
      "execution_count": 11,
      "metadata": {
        "id": "E0No_YOWu1VN",
        "colab": {
          "base_uri": "https://localhost:8080/"
        },
        "outputId": "0fb6df34-da78-4436-b7df-c8ac85ce21cd"
      },
      "outputs": [
        {
          "output_type": "stream",
          "name": "stdout",
          "text": [
            "Enter binary strings separated by space: 10000100 00100100 11100010 10011001\n",
            "Sum of 10000100 + 00100100 = 10101000\n",
            "Sum of 10101000 + 11100010 = 110001010\n",
            "Sum of 110001010 + 10011001 = 1000100011\n",
            "Sum of 00100011 + 10 = 100101\n",
            "1's complement of the final sum: 11011010\n",
            "Final checksum: 11011010\n",
            "Enter receiver string: 10000100 00100100 11100010 10011001\n",
            "Sum of 11011010 + 10000100 = 101011110\n",
            "Sum of 101011110 + 00100100 = 110000010\n",
            "Sum of 110000010 + 11100010 = 1001100100\n",
            "Sum of 1001100100 + 10011001 = 1011111101\n",
            "Sum of 11111101 + 10 = 11111111\n",
            "1's complement of the final sum: 00000000\n",
            "No error\n"
          ]
        }
      ],
      "source": [
        "def add(bin1, bin2):\n",
        "    # Ensure bin1 and bin2 are strings\n",
        "    if not isinstance(bin1, str) or not isinstance(bin2, str):\n",
        "        raise TypeError(\"Inputs to the 'add' function must be binary strings.\")\n",
        "\n",
        "    # Convert binary strings to integers\n",
        "    int1 = int(bin1, 2)\n",
        "    int2 = int(bin2, 2)\n",
        "\n",
        "    # Add the integers\n",
        "    sum_int = int1 + int2\n",
        "\n",
        "    # Convert the sum back to binary, and remove the '0b' prefix\n",
        "    sum_bin = bin(sum_int)[2:]\n",
        "\n",
        "    print(f\"Sum of {bin1} + {bin2} = {sum_bin}\")\n",
        "    return sum_bin\n",
        "\n",
        "def checksum(binary_strings):\n",
        "    sum_result = binary_strings[0]\n",
        "\n",
        "    # Add all binary strings one by one\n",
        "    for i in range(1, len(binary_strings)):\n",
        "        sum_result = add(sum_result, binary_strings[i])\n",
        "\n",
        "    # If there's a carry (sum length exceeds the length of original strings)\n",
        "    while len(sum_result) > len(binary_strings[0]):\n",
        "        carry = sum_result[:-len(binary_strings[0])]  # Extract carry (extra bits)\n",
        "        sum_result = sum_result[-len(binary_strings[0]):]  # Truncate sum to the original length\n",
        "        sum_result = add(sum_result, carry)  # Add the carry back to the truncated sum\n",
        "\n",
        "    # After handling carry, add leading zeros if necessary\n",
        "    sum_result = sum_result.zfill(len(binary_strings[0]))\n",
        "\n",
        "    # Return the 1's complement of the final sum\n",
        "    ones_complement = ''.join('1' if bit == '0' else '0' for bit in sum_result)\n",
        "\n",
        "    print(\"1's complement of the final sum:\", ones_complement)\n",
        "\n",
        "    return ones_complement\n",
        "\n",
        "def main():\n",
        "    # Get input from user\n",
        "    input_string = input(\"Enter binary strings separated by space: \")\n",
        "    binary_strings = input_string.split()\n",
        "\n",
        "    # Calculate checksum\n",
        "    ans = checksum(binary_strings)\n",
        "    print(f\"Final checksum: {ans}\")\n",
        "\n",
        "    # Get input from user\n",
        "    input_string2 = input(\"Enter receiver string: \")\n",
        "    binary_strings2 = input_string2.split()\n",
        "    binary_strings2.insert(0, ans)\n",
        "\n",
        "    ans2 = checksum(binary_strings2)\n",
        "    if(ans2 == '00000000'):\n",
        "        print(\"No error\")\n",
        "    else:\n",
        "        print(\"Error\")\n",
        "\n",
        "if __name__ == \"__main__\":\n",
        "    main()\n"
      ]
    }
  ]
}