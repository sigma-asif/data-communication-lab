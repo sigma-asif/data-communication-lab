{
  "nbformat": 4,
  "nbformat_minor": 0,
  "metadata": {
    "colab": {
      "provenance": [],
      "authorship_tag": "ABX9TyM0hm9uo9x9ZrFMnBoqf3M9",
      "include_colab_link": true
    },
    "kernelspec": {
      "name": "python3",
      "display_name": "Python 3"
    },
    "language_info": {
      "name": "python"
    }
  },
  "cells": [
    {
      "cell_type": "markdown",
      "metadata": {
        "id": "view-in-github",
        "colab_type": "text"
      },
      "source": [
        "<a href=\"https://colab.research.google.com/github/sigma-asif/data-communication-lab/blob/main/4_crc_using_xor.ipynb\" target=\"_parent\"><img src=\"https://colab.research.google.com/assets/colab-badge.svg\" alt=\"Open In Colab\"/></a>"
      ]
    },
    {
      "cell_type": "code",
      "execution_count": 3,
      "metadata": {
        "id": "KLyOpsaK_fjP",
        "colab": {
          "base_uri": "https://localhost:8080/"
        },
        "outputId": "93df2e42-0eba-4e1b-9cd4-037c7db01952"
      },
      "outputs": [
        {
          "output_type": "stream",
          "name": "stdout",
          "text": [
            "Enter the binary data: 100100\n",
            "Enter the binary divisor: 1101\n",
            "Enter receiver binary data: 100111\n",
            "err\n",
            "CRC: 001\n"
          ]
        }
      ],
      "source": [
        "def binary_division(data, divisor):\n",
        "\n",
        "\n",
        "    # Convert to list for easier manipulation\n",
        "    data = list(data)\n",
        "    divisor = list(divisor)\n",
        "\n",
        "    # Perform the binary division\n",
        "    for i in range(len(data) - len(divisor) + 1):\n",
        "        if data[i] == '1':  # Only divide if the leading bit is 1\n",
        "            for j in range(len(divisor)):\n",
        "                data[i + j] = str(int(data[i + j]) ^ int(divisor[j]))  # XOR operation\n",
        "\n",
        "    # The CRC is the remainder\n",
        "    return ''.join(data[-(len(divisor) - 1):])  # Return last bits as CRC\n",
        "\n",
        "# Get user input\n",
        "data = input(\"Enter the binary data: \")  # Your data\n",
        "divisor = input(\"Enter the binary divisor: \")  # Your divisor\n",
        "# Append zeros to the data based on the divisor's length\n",
        "data = data + '0' * (len(divisor) - 1)\n",
        "crc1 = binary_division(data, divisor)\n",
        "\n",
        "data2 = input(\"Enter receiver binary data: \")  # Your data\n",
        "crc2 = binary_division(data2,divisor)\n",
        "\n",
        "if crc1 == crc2:\n",
        "    print(\"no err\")\n",
        "else:\n",
        "    print(\"err\")\n",
        "\n",
        "\n",
        "print(\"CRC:\", crc1)\n"
      ]
    }
  ]
}